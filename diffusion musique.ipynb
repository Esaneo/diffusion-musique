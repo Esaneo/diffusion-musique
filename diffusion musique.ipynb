{
 "cells": [
  {
   "cell_type": "markdown",
   "id": "certain-response",
   "metadata": {},
   "source": [
    "# Diffusion musique\n",
    "\n",
    "ARE DYNAMIC 2021-2022 -- \n",
    "*ARNOUX Constance, BAITICHE Chanez,TEBBAL Anès*"
   ]
  },
  {
   "cell_type": "markdown",
   "id": "short-identifier",
   "metadata": {},
   "source": [
    "## English version"
   ]
  },
  {
   "cell_type": "markdown",
   "id": "prompt-archive",
   "metadata": {},
   "source": [
    "## Présentation de l'équipe\n",
    "\n",
    "|( ͡° ͜ʖ ͡°)| (´・ω・｀) | ಠ_ಠ |\n",
    "|-----|--|--|\n",
    "| C.Arnoux| A. Tebbal | C. Baitiche  |"
   ]
  },
  {
   "cell_type": "markdown",
   "id": "distant-fifteen",
   "metadata": {},
   "source": [
    "## Description synthétique du projet\n",
    "\n",
    "\n",
    "**Problématique :**\n",
    "En quoi un.e artiste, grâce à ses musiques, est apprécié.e par un type de public particulier? \n",
    "\n",
    "**Hypothèse principale :**\n",
    "Le public d'un.e artiste possède généralement des caractères en communs tels que l'âge, la nationalité ou encore le sexe.\n",
    "\n",
    "**Hypothèses secondaires :** \n",
    "Les artistes connus visent un certain public lorsqu'iels sortent une musique.\n",
    "\n",
    "**Objectifs :**\n",
    "Observer la diffusion d'une musique d'un.e artiste dans différents groupes d'individus.\n",
    "\n",
    "**Critère(s) d'évaluation :**\n",
    "**Artiste:** Age, sexe, nationalite, style, nombre d'abonnés sur youtube, nombre de musiques, langues de paroles, maximum de nombre de vus sur Youtube.\n",
    "\n",
    "**Public:** Age, sexe, nationalite.\n",
    "\n",
    "## Présentation structurée des résultats\n",
    "\n",
    "Présentation du choix de modélisation, des outils, du code et des résultats (tableaux, courbes, animations...) (**avec une analyse critique**).\n",
    "\n",
    "## Lien vers page de blog : <a href=\"blog.html\"> C'est ici ! </a>\n",
    "\n",
    "## Bibliographie :\n",
    "\n",
    "**Carte mentale de vos mots-clés, en utilisant** <a href=\"https://framindmap.org/mindmaps/index.html\">Framindmap </a> \n",
    "\n",
    "Liste de l'ensemble des ressources bibliographiques utilisées pour vos travaux. **<= Indiquez le canal utilisé pour les trouver (Google Scholar, sources wikipedia, ressources en ligne SU, ...)**\n"
   ]
  }
 ],
 "metadata": {
  "kernelspec": {
   "display_name": "Python 3",
   "language": "python",
   "name": "python3"
  },
  "language_info": {
   "codemirror_mode": {
    "name": "ipython",
    "version": 3
   },
   "file_extension": ".py",
   "mimetype": "text/x-python",
   "name": "python",
   "nbconvert_exporter": "python",
   "pygments_lexer": "ipython3",
   "version": "3.7.3"
  }
 },
 "nbformat": 4,
 "nbformat_minor": 5
}
